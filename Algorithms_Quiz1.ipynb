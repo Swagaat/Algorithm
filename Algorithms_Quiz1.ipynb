{
  "nbformat": 4,
  "nbformat_minor": 0,
  "metadata": {
    "colab": {
      "provenance": [],
      "authorship_tag": "ABX9TyPoILgh2yISuKWe/0ntrwJ+",
      "include_colab_link": true
    },
    "kernelspec": {
      "name": "python3",
      "display_name": "Python 3"
    },
    "language_info": {
      "name": "python"
    }
  },
  "cells": [
    {
      "cell_type": "markdown",
      "metadata": {
        "id": "view-in-github",
        "colab_type": "text"
      },
      "source": [
        "<a href=\"https://colab.research.google.com/github/Swagaat/Algorithm/blob/main/Algorithms_Quiz1.ipynb\" target=\"_parent\"><img src=\"https://colab.research.google.com/assets/colab-badge.svg\" alt=\"Open In Colab\"/></a>"
      ]
    },
    {
      "cell_type": "code",
      "execution_count": 4,
      "metadata": {
        "colab": {
          "base_uri": "https://localhost:8080/"
        },
        "id": "poVvOLWekjSK",
        "outputId": "0037059c-c55c-4ac0-e82d-4f54346b0fbe"
      },
      "outputs": [
        {
          "output_type": "stream",
          "name": "stdout",
          "text": [
            "Enter the first number: 12\n",
            "Enter the second number: 34\n",
            "Sum of the two numbers is: 46\n"
          ]
        }
      ],
      "source": [
        "def sum_two_numbers():\n",
        "    a = int(input(\"Enter the first number: \"))\n",
        "    b = int(input(\"Enter the second number: \"))\n",
        "    return a + b\n",
        "result_sum_two = sum_two_numbers()\n",
        "print(\"Sum of the two numbers is:\", result_sum_two)\n"
      ]
    },
    {
      "cell_type": "code",
      "source": [
        "def sum_three_numbers():\n",
        "    a = int(input(\"Enter the first number: \"))\n",
        "    b = int(input(\"Enter the second number: \"))\n",
        "    c = int(input(\"Enter the third number: \"))\n",
        "    return a + b + c\n",
        "result = sum_three_numbers()\n",
        "print(\"Sum of a, b, and c is:\", result)"
      ],
      "metadata": {
        "colab": {
          "base_uri": "https://localhost:8080/"
        },
        "id": "gqWk5aCzk_QR",
        "outputId": "848ac731-8112-4653-91e3-27bb97ac02f5"
      },
      "execution_count": 7,
      "outputs": [
        {
          "output_type": "stream",
          "name": "stdout",
          "text": [
            "Enter the first number: 10\n",
            "Enter the second number: 20\n",
            "Enter the third number: 30\n",
            "Sum of a, b, and c is: 60\n"
          ]
        }
      ]
    },
    {
      "cell_type": "code",
      "source": [
        "def find_maximum(items):\n",
        "    max_item = items[0]\n",
        "    for item in items[1:]:\n",
        "        if item > max_item:\n",
        "            max_item = item\n",
        "    return max_item\n",
        "max_item = find_maximum([10, 30, 40, 6, 99, 5])\n",
        "print(\"Maximum item is:\", max_item)"
      ],
      "metadata": {
        "colab": {
          "base_uri": "https://localhost:8080/"
        },
        "id": "Is4XxgvvlBzf",
        "outputId": "da55163f-b3bc-4d4f-9798-e64cc52864ba"
      },
      "execution_count": 10,
      "outputs": [
        {
          "output_type": "stream",
          "name": "stdout",
          "text": [
            "Maximum item is: 99\n"
          ]
        }
      ]
    },
    {
      "cell_type": "code",
      "source": [
        "def find_minimum(items):\n",
        "    min_item = items[0]\n",
        "    for item in items[1:]:\n",
        "        if item < min_item:\n",
        "            min_item = item\n",
        "    return min_item\n",
        "min_item = find_minimum([10, 30, 40, 6, 99, 5])\n",
        "print(\"Minimum item is:\", min_item)\n"
      ],
      "metadata": {
        "colab": {
          "base_uri": "https://localhost:8080/"
        },
        "id": "JOBYd-mPlCeI",
        "outputId": "bf621bac-d54d-4020-bc19-e900d6688263"
      },
      "execution_count": 11,
      "outputs": [
        {
          "output_type": "stream",
          "name": "stdout",
          "text": [
            "Minimum item is: 5\n"
          ]
        }
      ]
    }
  ]
}